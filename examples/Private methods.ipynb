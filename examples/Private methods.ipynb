{
 "cells": [
  {
   "cell_type": "code",
   "execution_count": 1,
   "metadata": {},
   "outputs": [],
   "source": [
    "from vkapi.methods import *\n",
    "from vkapi import Config\n",
    "\n",
    "# Additional libs \n",
    "from time import sleep"
   ]
  },
  {
   "cell_type": "markdown",
   "metadata": {},
   "source": [
    "## Token\n",
    "First of all we have to receive a token. `scope=messages` as we will send messages."
   ]
  },
  {
   "cell_type": "markdown",
   "metadata": {},
   "source": [
    "https://oauth.vk.com/authorize?client_id=YOUCLIENTID&display=page&redirect_uri=oauth.vk.com/blank&scope=messages&response_type=token"
   ]
  },
  {
   "cell_type": "code",
   "execution_count": 2,
   "metadata": {
    "collapsed": true
   },
   "outputs": [],
   "source": [
    "Config.token = 'HERE IS THE TOKEN'"
   ]
  },
  {
   "cell_type": "code",
   "execution_count": 3,
   "metadata": {},
   "outputs": [],
   "source": [
    "message_id = messages.send(user_id='SOME_UID', message='🐽 🐸 🐼')"
   ]
  },
  {
   "cell_type": "markdown",
   "metadata": {},
   "source": [
    "Sometimes it is quite useful to delete the sent messages. It will allow you to send lots of messages and not to rubbish the message history."
   ]
  },
  {
   "cell_type": "code",
   "execution_count": 4,
   "metadata": {},
   "outputs": [
    {
     "data": {
      "text/plain": [
       "{'SOME_UID': 1}"
      ]
     },
     "execution_count": 4,
     "metadata": {},
     "output_type": "execute_result"
    }
   ],
   "source": [
    "messages.delete(message_ids=message_id)"
   ]
  },
  {
   "cell_type": "code",
   "execution_count": 5,
   "metadata": {},
   "outputs": [],
   "source": [
    "def send_del(message_list, uid):\n",
    "    sent = []\n",
    "    for m in message_list:\n",
    "        sent.append(messages.send(user_id=uid, message=m))\n",
    "        sleep(0.3)\n",
    "    results = messages.delete(message_ids=sent)\n",
    "    return results\n",
    "\n",
    "my_messages = ['😉', '🤡', '🤠', '🍏',]\n",
    "results = send_del(my_messages, uid='SOME_UID')"
   ]
  },
  {
   "cell_type": "code",
   "execution_count": null,
   "metadata": {
    "collapsed": true
   },
   "outputs": [],
   "source": []
  }
 ],
 "metadata": {
  "kernelspec": {
   "display_name": "Python 3",
   "language": "python",
   "name": "python3"
  },
  "language_info": {
   "codemirror_mode": {
    "name": "ipython",
    "version": 3
   },
   "file_extension": ".py",
   "mimetype": "text/x-python",
   "name": "python",
   "nbconvert_exporter": "python",
   "pygments_lexer": "ipython3",
   "version": "3.6.4"
  }
 },
 "nbformat": 4,
 "nbformat_minor": 2
}
