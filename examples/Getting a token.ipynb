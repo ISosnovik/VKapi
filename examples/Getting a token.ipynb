{
 "cells": [
  {
   "cell_type": "markdown",
   "metadata": {},
   "source": [
    "## Brief intro\n",
    "Some methods require **`accesss_token`** parameter. There are several types of tokens you could pass.\n",
    "\n",
    "#### 1. User token\n",
    "A user token is required to run almost all API methods excepting the secure section. Some methods, such as `users.get`, can be called without a token but some data may be unavailable because it does matter who exactly tries to get it. \n",
    "\n",
    "#### 2. Community token\n",
    "A community token allows working with API on behalf of a group, event or public page. It can be used to answer the community messages. \n",
    "\n",
    "#### 3. Service token\n",
    "Service token is used for requests that do not require any user or community authorization. These are such methods as `secure.sendNotification` to send notifications from the app or `secure.addAppEvent` to add achievements info and, starting from April, 2017, open methods, e.g. `users.get`. "
   ]
  },
  {
   "cell_type": "code",
   "execution_count": 1,
   "metadata": {
    "collapsed": true
   },
   "outputs": [],
   "source": [
    "from vkapi.methods import *\n",
    "from vkapi import VKError, Config"
   ]
  },
  {
   "cell_type": "code",
   "execution_count": 2,
   "metadata": {},
   "outputs": [
    {
     "name": "stdout",
     "output_type": "stream",
     "text": [
      "Help on function search in module vkapi.methods.users:\n",
      "\n",
      "search(q=None, sort=None, offset=None, count=None, fields=None, city=None, country=None, hometown=None, university_country=None, university=None, university_year=None, university_faculty=None, university_chair=None, sex=None, status=None, age_from=None, age_to=None, birth_day=None, birth_month=None, birth_year=None, online=None, has_photo=None, school_country=None, school_city=None, school_class=None, school=None, school_year=None, religion=None, interests=None, company=None, position=None, group_id=None, from_list=None)\n",
      "    Returns a list of users matching the search criteria.\n",
      "    https://vk.com/dev/users.search\n",
      "\n"
     ]
    }
   ],
   "source": [
    "# very cool method\n",
    "help(users.search)"
   ]
  },
  {
   "cell_type": "code",
   "execution_count": 3,
   "metadata": {},
   "outputs": [
    {
     "name": "stdout",
     "output_type": "stream",
     "text": [
      "User authorization failed: no access_token passed.\n"
     ]
    }
   ],
   "source": [
    "try:\n",
    "    # This method requires access_token\n",
    "    result = users.search(q=\"Ice-Cream Sandwich\", age_from=18, age_to=21)\n",
    "    print(\"total: {} results\".format(result[0]))\n",
    "except VKError as e:\n",
    "    print(e)"
   ]
  },
  {
   "cell_type": "markdown",
   "metadata": {},
   "source": [
    "To receive the token we have to request it first. To begin with, the application should be registere on __**vk.com**__.\n",
    "Then we construct the valid request using **`client_id`**, **`redirect_uri`** and **`score`**. Here we choose **`response_type=token`**. You can click on the link to receive your own token"
   ]
  },
  {
   "cell_type": "markdown",
   "metadata": {},
   "source": [
    "https://oauth.vk.com/authorize?client_id=YOUCLIENTID&display=page&redirect_uri=oauth.vk.com/blank&scope=&response_type=token"
   ]
  },
  {
   "cell_type": "code",
   "execution_count": 23,
   "metadata": {
    "collapsed": true
   },
   "outputs": [],
   "source": [
    "# Now we can add the token\n",
    "Config.token = 'here put the token'\n",
    "# Config.token = None\n",
    "# That's it"
   ]
  },
  {
   "cell_type": "code",
   "execution_count": 22,
   "metadata": {},
   "outputs": [
    {
     "name": "stdout",
     "output_type": "stream",
     "text": [
      "total: 2 results\n"
     ]
    }
   ],
   "source": [
    "# The same code\n",
    "try:\n",
    "    result = users.search(q=\"Ice-Cream Sandwich\", age_from=18, age_to=21)\n",
    "    print(\"total: {} results\".format(result[0]))\n",
    "except VKError as e:\n",
    "    print(e)"
   ]
  },
  {
   "cell_type": "code",
   "execution_count": 16,
   "metadata": {},
   "outputs": [
    {
     "data": {
      "text/plain": [
       "[2,\n",
       " {'first_name': 'Dimon', 'last_name': 'Kazmiruk', 'uid': 316650656},\n",
       " {'first_name': 'Ice', 'last_name': 'Cream-Sandwich', 'uid': 169099508}]"
      ]
     },
     "execution_count": 16,
     "metadata": {},
     "output_type": "execute_result"
    }
   ],
   "source": [
    "result"
   ]
  },
  {
   "cell_type": "code",
   "execution_count": null,
   "metadata": {
    "collapsed": true
   },
   "outputs": [],
   "source": []
  }
 ],
 "metadata": {
  "kernelspec": {
   "display_name": "Python 3",
   "language": "python",
   "name": "python3"
  },
  "language_info": {
   "codemirror_mode": {
    "name": "ipython",
    "version": 3
   },
   "file_extension": ".py",
   "mimetype": "text/x-python",
   "name": "python",
   "nbconvert_exporter": "python",
   "pygments_lexer": "ipython3",
   "version": "3.6.4"
  }
 },
 "nbformat": 4,
 "nbformat_minor": 2
}
