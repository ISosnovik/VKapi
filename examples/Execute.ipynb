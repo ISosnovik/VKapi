{
 "cells": [
  {
   "cell_type": "code",
   "execution_count": 1,
   "metadata": {},
   "outputs": [],
   "source": [
    "from vkapi.methods import *\n",
    "from vkapi import Config\n",
    "\n",
    "import itertools\n",
    "import time"
   ]
  },
  {
   "cell_type": "markdown",
   "metadata": {},
   "source": [
    "Lets collect all the members of some group. [**VK Music**](https://vk.com/vkmusic) seems good."
   ]
  },
  {
   "cell_type": "code",
   "execution_count": 2,
   "metadata": {},
   "outputs": [],
   "source": [
    "def get_users(gid):\n",
    "    offset = 0\n",
    "    total_uids = []\n",
    "    while True:\n",
    "        uids = groups.getMembers(group_id=gid, offset=offset)['users']\n",
    "        if not len(uids):\n",
    "            break\n",
    "        total_uids.extend(uids)\n",
    "        offset += 1000\n",
    "        time.sleep(0.2)\n",
    "    return total_uids"
   ]
  },
  {
   "cell_type": "code",
   "execution_count": 3,
   "metadata": {
    "scrolled": false
   },
   "outputs": [
    {
     "name": "stdout",
     "output_type": "stream",
     "text": [
      "CPU times: user 1.55 s, sys: 122 ms, total: 1.67 s\n",
      "Wall time: 21.7 s\n"
     ]
    }
   ],
   "source": [
    "%%time\n",
    "music_users = get_users(147845620)"
   ]
  },
  {
   "cell_type": "code",
   "execution_count": 4,
   "metadata": {},
   "outputs": [
    {
     "name": "stdout",
     "output_type": "stream",
     "text": [
      "Total: 49844 users\n"
     ]
    }
   ],
   "source": [
    "print(\"Total: {} users\".format(len(music_users)))"
   ]
  },
  {
   "cell_type": "markdown",
   "metadata": {},
   "source": [
    "### `execute`"
   ]
  },
  {
   "cell_type": "markdown",
   "metadata": {},
   "source": [
    "Algorithm code in **VKScript** — a format similar to **JavaSсript** or **ActionScript** and assuming compatibility with **ECMAScript**. \n",
    "\n",
    "Separate operators by semicolons. Terminate the algorithm with the command return %expression%. \n",
    "\n",
    "**Code** may contain up to 25 API requests."
   ]
  },
  {
   "cell_type": "markdown",
   "metadata": {},
   "source": [
    "https://oauth.vk.com/authorize?client_id=YOUCLIENTID&display=page&redirect_uri=oauth.vk.com/blank&scope=&response_type=token"
   ]
  },
  {
   "cell_type": "code",
   "execution_count": 5,
   "metadata": {
    "collapsed": true
   },
   "outputs": [],
   "source": [
    "Config.token = 'HERE IS THE TOKEN'"
   ]
  },
  {
   "cell_type": "code",
   "execution_count": 6,
   "metadata": {},
   "outputs": [],
   "source": [
    "code_pattern = '''\n",
    "var nReq = 0; var nReqMax = 25;\n",
    "var gid = %s; var offset = %s;\n",
    "var users = [];\n",
    "while (nReq < nReqMax) {\n",
    "    var new = API.groups.getMembers({\"offset\":offset, \"group_id\":gid})[\"users\"];\n",
    "    if (new.length == 0) return {\"offset\": offset, \"users\":users};\n",
    "    users.push(new);\n",
    "    offset = offset + 1000; nReq = nReq + 1;\n",
    "}\n",
    "return {\"offset\":offset, \"users\":users};'''"
   ]
  },
  {
   "cell_type": "code",
   "execution_count": 7,
   "metadata": {
    "collapsed": true
   },
   "outputs": [],
   "source": [
    "def get_users_execute(gid):\n",
    "    offset = 0\n",
    "    total_users = []\n",
    "    while True:\n",
    "        res = execute(code_pattern % (gid, offset))\n",
    "        new_users = [a for a in itertools.chain(*res['users'])]\n",
    "        if not len(new_users): \n",
    "            break\n",
    "        total_users.extend(new_users)\n",
    "        offset = res['offset']\n",
    "        time.sleep(0.2)\n",
    "    return total_users"
   ]
  },
  {
   "cell_type": "code",
   "execution_count": 8,
   "metadata": {},
   "outputs": [
    {
     "name": "stdout",
     "output_type": "stream",
     "text": [
      "CPU times: user 132 ms, sys: 14 ms, total: 146 ms\n",
      "Wall time: 3.69 s\n"
     ]
    }
   ],
   "source": [
    "%%time\n",
    "music_users_execute = get_users_execute(147845620)"
   ]
  },
  {
   "cell_type": "code",
   "execution_count": 9,
   "metadata": {},
   "outputs": [
    {
     "name": "stdout",
     "output_type": "stream",
     "text": [
      "Total: 49844 users\n"
     ]
    }
   ],
   "source": [
    "print(\"Total: {} users\".format(len(music_users_execute)))"
   ]
  },
  {
   "cell_type": "markdown",
   "metadata": {},
   "source": [
    "|Method      |time, s     | requires token |\n",
    "|------------|------------|----------------| \n",
    "|usual API   |21.7        |NO              |\n",
    "|`execute`   |3.7         |YES             |"
   ]
  },
  {
   "cell_type": "code",
   "execution_count": null,
   "metadata": {
    "collapsed": true
   },
   "outputs": [],
   "source": []
  }
 ],
 "metadata": {
  "kernelspec": {
   "display_name": "Python 3",
   "language": "python",
   "name": "python3"
  },
  "language_info": {
   "codemirror_mode": {
    "name": "ipython",
    "version": 3
   },
   "file_extension": ".py",
   "mimetype": "text/x-python",
   "name": "python",
   "nbconvert_exporter": "python",
   "pygments_lexer": "ipython3",
   "version": "3.6.4"
  }
 },
 "nbformat": 4,
 "nbformat_minor": 2
}
